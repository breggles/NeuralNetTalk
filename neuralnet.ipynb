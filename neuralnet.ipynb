{
 "cells": [
  {
   "cell_type": "markdown",
   "metadata": {},
   "source": [
    "# How to train your neural net\n",
    "\n",
    "## Step 1: Define the neural network"
   ]
  },
  {
   "cell_type": "code",
   "execution_count": 4,
   "metadata": {
    "dotnet_interactive": {
     "language": "csharp"
    },
    "polyglot_notebook": {
     "kernelName": "csharp"
    }
   },
   "outputs": [],
   "source": [
    "var y = w * x;"
   ]
  },
  {
   "cell_type": "markdown",
   "metadata": {},
   "source": [
    "Our neural net has one neuron with one input `x` and hence one weight `w`. The weight `w` is our single parameter.\n",
    "\n",
    "Goal: We want to _train_ the neural net to return the value `2` when we give it the input `1`. I.e. we want to find the `w` for which this is the case.\n",
    "\n",
    "\n",
    "## Step 2: Pick random start values for the parameters\n",
    "\n",
    "To keep things simple I will be the random number generator."
   ]
  },
  {
   "cell_type": "code",
   "execution_count": 5,
   "metadata": {
    "dotnet_interactive": {
     "language": "csharp"
    },
    "polyglot_notebook": {
     "kernelName": "csharp"
    }
   },
   "outputs": [],
   "source": [
    "var w = 0.5;"
   ]
  },
  {
   "cell_type": "markdown",
   "metadata": {},
   "source": [
    "## Step 3: Training data\n",
    "\n",
    "We need some."
   ]
  },
  {
   "cell_type": "code",
   "execution_count": 6,
   "metadata": {
    "dotnet_interactive": {
     "language": "csharp"
    },
    "polyglot_notebook": {
     "kernelName": "csharp"
    }
   },
   "outputs": [],
   "source": [
    "double x = 1;          // input\n",
    "double expectedY = 2;  // expected output, want our neural net to return\n",
    "                       // this value for the given input"
   ]
  },
  {
   "cell_type": "markdown",
   "metadata": {},
   "source": [
    "## Step 4: Calculate actual output"
   ]
  },
  {
   "cell_type": "code",
   "execution_count": 7,
   "metadata": {
    "dotnet_interactive": {
     "language": "csharp"
    },
    "polyglot_notebook": {
     "kernelName": "csharp"
    }
   },
   "outputs": [
    {
     "data": {
      "text/html": [
       "<div class=\"dni-plaintext\"><pre>0.5</pre></div><style>\r\n",
       ".dni-code-hint {\r\n",
       "    font-style: italic;\r\n",
       "    overflow: hidden;\r\n",
       "    white-space: nowrap;\r\n",
       "}\r\n",
       ".dni-treeview {\r\n",
       "    white-space: nowrap;\r\n",
       "}\r\n",
       ".dni-treeview td {\r\n",
       "    vertical-align: top;\r\n",
       "    text-align: start;\r\n",
       "}\r\n",
       "details.dni-treeview {\r\n",
       "    padding-left: 1em;\r\n",
       "}\r\n",
       "table td {\r\n",
       "    text-align: start;\r\n",
       "}\r\n",
       "table tr { \r\n",
       "    vertical-align: top; \r\n",
       "    margin: 0em 0px;\r\n",
       "}\r\n",
       "table tr td pre \r\n",
       "{ \r\n",
       "    vertical-align: top !important; \r\n",
       "    margin: 0em 0px !important;\r\n",
       "} \r\n",
       "table th {\r\n",
       "    text-align: start;\r\n",
       "}\r\n",
       "</style>"
      ]
     },
     "metadata": {},
     "output_type": "display_data"
    }
   ],
   "source": [
    "var y = w * x;\n",
    "y"
   ]
  },
  {
   "cell_type": "markdown",
   "metadata": {},
   "source": [
    "## Step 5: Calculate how far we are away from where we want to be\n",
    "\n",
    "Want to quantify how far away we are from our goal. So we can then reduce the distance, a.k.a. \"the loss\"."
   ]
  },
  {
   "cell_type": "code",
   "execution_count": 8,
   "metadata": {
    "dotnet_interactive": {
     "language": "csharp"
    },
    "polyglot_notebook": {
     "kernelName": "csharp"
    }
   },
   "outputs": [
    {
     "data": {
      "text/html": [
       "<div class=\"dni-plaintext\"><pre>-1.5</pre></div><style>\r\n",
       ".dni-code-hint {\r\n",
       "    font-style: italic;\r\n",
       "    overflow: hidden;\r\n",
       "    white-space: nowrap;\r\n",
       "}\r\n",
       ".dni-treeview {\r\n",
       "    white-space: nowrap;\r\n",
       "}\r\n",
       ".dni-treeview td {\r\n",
       "    vertical-align: top;\r\n",
       "    text-align: start;\r\n",
       "}\r\n",
       "details.dni-treeview {\r\n",
       "    padding-left: 1em;\r\n",
       "}\r\n",
       "table td {\r\n",
       "    text-align: start;\r\n",
       "}\r\n",
       "table tr { \r\n",
       "    vertical-align: top; \r\n",
       "    margin: 0em 0px;\r\n",
       "}\r\n",
       "table tr td pre \r\n",
       "{ \r\n",
       "    vertical-align: top !important; \r\n",
       "    margin: 0em 0px !important;\r\n",
       "} \r\n",
       "table th {\r\n",
       "    text-align: start;\r\n",
       "}\r\n",
       "</style>"
      ]
     },
     "metadata": {},
     "output_type": "display_data"
    }
   ],
   "source": [
    "var loss = y - expectedY;\n",
    "loss"
   ]
  },
  {
   "cell_type": "markdown",
   "metadata": {},
   "source": [
    "(Build up function composition graph.)"
   ]
  },
  {
   "cell_type": "markdown",
   "metadata": {},
   "source": [
    "## Step 6: Find the gradient of the loss function with respect to each parameter\n",
    "\n",
    "(This is the revenge bit.)\n",
    "\n",
    "Want to know how our parameter affects the loss. More specifically, we want to know which direction we need to nudge the parameter to reduce the loss. In other words, need to know the gradient of the loss function with respect to the parameter.\n",
    "\n",
    "Could calculate $\\frac{dloss}{dw}$ straight up in this simple case,\n",
    "\n",
    "$$\n",
    "\\frac{dloss}{dw} = \\frac{d(y - expectedY)}{dw} = \\frac{d((w \\times x) - expectedY)}{dw} = ?\n",
    "\n",
    "$$\n",
    "\n",
    "But not possible for more complex cases (like neural networks) so lets break it down, for science. Also allows _automating_ the process.\n",
    "\n",
    "Function composition allows application of chain-rule.\n",
    "\n",
    "\\begin{align*}\n",
    "& & \\text{Chain rule} & \\implies & \\frac{dloss}{dw} & = & \\frac{dloss}{dy} \\times \\frac{dy}{dx} & &\\\\\n",
    "\n",
    "loss & = & y - expectedY & \\implies & \\frac{dloss}{dy} & & & = & 1\\\\\n",
    "\n",
    "y & = & w \\times x         & \\implies & \\frac{dy}{dw} & & & = & x\\\\\n",
    "\n",
    "& & \\text{Chain rule} & \\implies & \\frac{dloss}{dw} & = & 1 \\times x & = & x\n",
    "\\end{align*}"
   ]
  },
  {
   "cell_type": "code",
   "execution_count": 9,
   "metadata": {
    "dotnet_interactive": {
     "language": "csharp"
    },
    "polyglot_notebook": {
     "kernelName": "csharp"
    }
   },
   "outputs": [
    {
     "data": {
      "text/html": [
       "<div class=\"dni-plaintext\"><pre>1</pre></div><style>\r\n",
       ".dni-code-hint {\r\n",
       "    font-style: italic;\r\n",
       "    overflow: hidden;\r\n",
       "    white-space: nowrap;\r\n",
       "}\r\n",
       ".dni-treeview {\r\n",
       "    white-space: nowrap;\r\n",
       "}\r\n",
       ".dni-treeview td {\r\n",
       "    vertical-align: top;\r\n",
       "    text-align: start;\r\n",
       "}\r\n",
       "details.dni-treeview {\r\n",
       "    padding-left: 1em;\r\n",
       "}\r\n",
       "table td {\r\n",
       "    text-align: start;\r\n",
       "}\r\n",
       "table tr { \r\n",
       "    vertical-align: top; \r\n",
       "    margin: 0em 0px;\r\n",
       "}\r\n",
       "table tr td pre \r\n",
       "{ \r\n",
       "    vertical-align: top !important; \r\n",
       "    margin: 0em 0px !important;\r\n",
       "} \r\n",
       "table th {\r\n",
       "    text-align: start;\r\n",
       "}\r\n",
       "</style>"
      ]
     },
     "metadata": {},
     "output_type": "display_data"
    }
   ],
   "source": [
    "var grad = x;\n",
    "grad"
   ]
  },
  {
   "cell_type": "markdown",
   "metadata": {},
   "source": [
    "## Step 7: Adjust parameters"
   ]
  },
  {
   "cell_type": "code",
   "execution_count": 10,
   "metadata": {
    "dotnet_interactive": {
     "language": "csharp"
    },
    "polyglot_notebook": {
     "kernelName": "csharp"
    }
   },
   "outputs": [
    {
     "data": {
      "text/html": [
       "<div class=\"dni-plaintext\"><pre>0.49</pre></div><style>\r\n",
       ".dni-code-hint {\r\n",
       "    font-style: italic;\r\n",
       "    overflow: hidden;\r\n",
       "    white-space: nowrap;\r\n",
       "}\r\n",
       ".dni-treeview {\r\n",
       "    white-space: nowrap;\r\n",
       "}\r\n",
       ".dni-treeview td {\r\n",
       "    vertical-align: top;\r\n",
       "    text-align: start;\r\n",
       "}\r\n",
       "details.dni-treeview {\r\n",
       "    padding-left: 1em;\r\n",
       "}\r\n",
       "table td {\r\n",
       "    text-align: start;\r\n",
       "}\r\n",
       "table tr { \r\n",
       "    vertical-align: top; \r\n",
       "    margin: 0em 0px;\r\n",
       "}\r\n",
       "table tr td pre \r\n",
       "{ \r\n",
       "    vertical-align: top !important; \r\n",
       "    margin: 0em 0px !important;\r\n",
       "} \r\n",
       "table th {\r\n",
       "    text-align: start;\r\n",
       "}\r\n",
       "</style>"
      ]
     },
     "metadata": {},
     "output_type": "display_data"
    }
   ],
   "source": [
    "w = w - 0.01 * grad"
   ]
  },
  {
   "cell_type": "markdown",
   "metadata": {},
   "source": [
    "(`0.01` is a magic number called the \"learning rate\")"
   ]
  },
  {
   "cell_type": "markdown",
   "metadata": {},
   "source": [
    "## Step 8: Rinse and repeat...\n",
    "\n",
    "...until the loss is acceptably small. Profit."
   ]
  },
  {
   "cell_type": "markdown",
   "metadata": {},
   "source": [
    "## Step 9: However...\n",
    "\n",
    "If we calculate the actual output again, we see that it has actually gotten further away from the expected output?! :confused:"
   ]
  },
  {
   "cell_type": "code",
   "execution_count": 11,
   "metadata": {
    "dotnet_interactive": {
     "language": "csharp"
    },
    "polyglot_notebook": {
     "kernelName": "csharp"
    }
   },
   "outputs": [
    {
     "data": {
      "text/html": [
       "<div class=\"dni-plaintext\"><pre>0.49</pre></div><style>\r\n",
       ".dni-code-hint {\r\n",
       "    font-style: italic;\r\n",
       "    overflow: hidden;\r\n",
       "    white-space: nowrap;\r\n",
       "}\r\n",
       ".dni-treeview {\r\n",
       "    white-space: nowrap;\r\n",
       "}\r\n",
       ".dni-treeview td {\r\n",
       "    vertical-align: top;\r\n",
       "    text-align: start;\r\n",
       "}\r\n",
       "details.dni-treeview {\r\n",
       "    padding-left: 1em;\r\n",
       "}\r\n",
       "table td {\r\n",
       "    text-align: start;\r\n",
       "}\r\n",
       "table tr { \r\n",
       "    vertical-align: top; \r\n",
       "    margin: 0em 0px;\r\n",
       "}\r\n",
       "table tr td pre \r\n",
       "{ \r\n",
       "    vertical-align: top !important; \r\n",
       "    margin: 0em 0px !important;\r\n",
       "} \r\n",
       "table th {\r\n",
       "    text-align: start;\r\n",
       "}\r\n",
       "</style>"
      ]
     },
     "metadata": {},
     "output_type": "display_data"
    }
   ],
   "source": [
    "y = w * x;\n",
    "y"
   ]
  },
  {
   "cell_type": "markdown",
   "metadata": {},
   "source": [
    "And if we calculate the loss again, we can see that it has gotten bigger (in absolute terms)"
   ]
  },
  {
   "cell_type": "code",
   "execution_count": 12,
   "metadata": {
    "dotnet_interactive": {
     "language": "csharp"
    },
    "polyglot_notebook": {
     "kernelName": "csharp"
    }
   },
   "outputs": [
    {
     "data": {
      "text/html": [
       "<div class=\"dni-plaintext\"><pre>-1.51</pre></div><style>\r\n",
       ".dni-code-hint {\r\n",
       "    font-style: italic;\r\n",
       "    overflow: hidden;\r\n",
       "    white-space: nowrap;\r\n",
       "}\r\n",
       ".dni-treeview {\r\n",
       "    white-space: nowrap;\r\n",
       "}\r\n",
       ".dni-treeview td {\r\n",
       "    vertical-align: top;\r\n",
       "    text-align: start;\r\n",
       "}\r\n",
       "details.dni-treeview {\r\n",
       "    padding-left: 1em;\r\n",
       "}\r\n",
       "table td {\r\n",
       "    text-align: start;\r\n",
       "}\r\n",
       "table tr { \r\n",
       "    vertical-align: top; \r\n",
       "    margin: 0em 0px;\r\n",
       "}\r\n",
       "table tr td pre \r\n",
       "{ \r\n",
       "    vertical-align: top !important; \r\n",
       "    margin: 0em 0px !important;\r\n",
       "} \r\n",
       "table th {\r\n",
       "    text-align: start;\r\n",
       "}\r\n",
       "</style>"
      ]
     },
     "metadata": {},
     "output_type": "display_data"
    }
   ],
   "source": [
    "loss = y - expectedY;\n",
    "loss"
   ]
  },
  {
   "cell_type": "markdown",
   "metadata": {},
   "source": [
    "It turns out, that, depending on our training data, which way round we do the subtraction matters. To avoid having this problem, we can square the difference."
   ]
  },
  {
   "cell_type": "code",
   "execution_count": 13,
   "metadata": {
    "dotnet_interactive": {
     "language": "csharp"
    },
    "polyglot_notebook": {
     "kernelName": "csharp"
    }
   },
   "outputs": [
    {
     "data": {
      "text/html": [
       "<div class=\"dni-plaintext\"><pre>2.2801</pre></div><style>\r\n",
       ".dni-code-hint {\r\n",
       "    font-style: italic;\r\n",
       "    overflow: hidden;\r\n",
       "    white-space: nowrap;\r\n",
       "}\r\n",
       ".dni-treeview {\r\n",
       "    white-space: nowrap;\r\n",
       "}\r\n",
       ".dni-treeview td {\r\n",
       "    vertical-align: top;\r\n",
       "    text-align: start;\r\n",
       "}\r\n",
       "details.dni-treeview {\r\n",
       "    padding-left: 1em;\r\n",
       "}\r\n",
       "table td {\r\n",
       "    text-align: start;\r\n",
       "}\r\n",
       "table tr { \r\n",
       "    vertical-align: top; \r\n",
       "    margin: 0em 0px;\r\n",
       "}\r\n",
       "table tr td pre \r\n",
       "{ \r\n",
       "    vertical-align: top !important; \r\n",
       "    margin: 0em 0px !important;\r\n",
       "} \r\n",
       "table th {\r\n",
       "    text-align: start;\r\n",
       "}\r\n",
       "</style>"
      ]
     },
     "metadata": {},
     "output_type": "display_data"
    }
   ],
   "source": [
    "loss = Math.Pow(y - expectedY, 2);\n",
    "loss"
   ]
  },
  {
   "cell_type": "markdown",
   "metadata": {},
   "source": [
    "But that makes the maths more complicated:\n",
    "\n",
    "$$\n",
    "\\frac{dloss}{dw} = \\frac{d(((w \\times x) - expectedY)^2)}{dw} = ?\\\\\n",
    "$$\n",
    "\n",
    "\n",
    "\\begin{align*}\n",
    "loss & = & z^2 & \\implies & \\frac{dloss}{dz} & = & & & 2z\\\\\n",
    "\n",
    "z & = & y - expectedY & \\implies & \\frac{dz}{dy} & = & & & 1\\\\\n",
    "\n",
    "& & \\text{Chain rule} & \\implies & \\frac{dloss}{dy} & = & \\frac{dloss}{dz} \\times \\frac{dz}{dy} & = & 2z\\\\\n",
    "\n",
    "y & = & w \\times x         & \\implies & \\frac{dy}{dw} & = & & & x\\\\\n",
    "\n",
    "& & \\text{Chain rule} & \\implies & \\frac{dloss}{dw} & = & \\frac{dloss}{dz} \\times \\frac{dz}{dw} & = & \\frac{dloss}{dz} \\times \\frac{dz}{dy} \\times \\frac{dy}{dw} = 2z \\times 1 \\times x\\\\\n",
    "& & & & & & = & & 2 \\times (y - expectedY) \\times x\\\\\n",
    "\\end{align*}"
   ]
  },
  {
   "cell_type": "code",
   "execution_count": 14,
   "metadata": {
    "dotnet_interactive": {
     "language": "csharp"
    },
    "polyglot_notebook": {
     "kernelName": "csharp"
    }
   },
   "outputs": [
    {
     "data": {
      "text/html": [
       "<div class=\"dni-plaintext\"><pre>-3.02</pre></div><style>\r\n",
       ".dni-code-hint {\r\n",
       "    font-style: italic;\r\n",
       "    overflow: hidden;\r\n",
       "    white-space: nowrap;\r\n",
       "}\r\n",
       ".dni-treeview {\r\n",
       "    white-space: nowrap;\r\n",
       "}\r\n",
       ".dni-treeview td {\r\n",
       "    vertical-align: top;\r\n",
       "    text-align: start;\r\n",
       "}\r\n",
       "details.dni-treeview {\r\n",
       "    padding-left: 1em;\r\n",
       "}\r\n",
       "table td {\r\n",
       "    text-align: start;\r\n",
       "}\r\n",
       "table tr { \r\n",
       "    vertical-align: top; \r\n",
       "    margin: 0em 0px;\r\n",
       "}\r\n",
       "table tr td pre \r\n",
       "{ \r\n",
       "    vertical-align: top !important; \r\n",
       "    margin: 0em 0px !important;\r\n",
       "} \r\n",
       "table th {\r\n",
       "    text-align: start;\r\n",
       "}\r\n",
       "</style>"
      ]
     },
     "metadata": {},
     "output_type": "display_data"
    }
   ],
   "source": [
    "grad = 2 * (y - expectedY) * x"
   ]
  },
  {
   "cell_type": "markdown",
   "metadata": {},
   "source": [
    "Nudge again"
   ]
  },
  {
   "cell_type": "code",
   "execution_count": 15,
   "metadata": {
    "dotnet_interactive": {
     "language": "csharp"
    },
    "polyglot_notebook": {
     "kernelName": "csharp"
    }
   },
   "outputs": [
    {
     "data": {
      "text/html": [
       "<div class=\"dni-plaintext\"><pre>0.5202</pre></div><style>\r\n",
       ".dni-code-hint {\r\n",
       "    font-style: italic;\r\n",
       "    overflow: hidden;\r\n",
       "    white-space: nowrap;\r\n",
       "}\r\n",
       ".dni-treeview {\r\n",
       "    white-space: nowrap;\r\n",
       "}\r\n",
       ".dni-treeview td {\r\n",
       "    vertical-align: top;\r\n",
       "    text-align: start;\r\n",
       "}\r\n",
       "details.dni-treeview {\r\n",
       "    padding-left: 1em;\r\n",
       "}\r\n",
       "table td {\r\n",
       "    text-align: start;\r\n",
       "}\r\n",
       "table tr { \r\n",
       "    vertical-align: top; \r\n",
       "    margin: 0em 0px;\r\n",
       "}\r\n",
       "table tr td pre \r\n",
       "{ \r\n",
       "    vertical-align: top !important; \r\n",
       "    margin: 0em 0px !important;\r\n",
       "} \r\n",
       "table th {\r\n",
       "    text-align: start;\r\n",
       "}\r\n",
       "</style>"
      ]
     },
     "metadata": {},
     "output_type": "display_data"
    }
   ],
   "source": [
    "w = w - 0.01 * grad "
   ]
  },
  {
   "cell_type": "markdown",
   "metadata": {},
   "source": [
    "## Step 10: Putting it all together"
   ]
  },
  {
   "cell_type": "code",
   "execution_count": 16,
   "metadata": {
    "dotnet_interactive": {
     "language": "csharp"
    },
    "polyglot_notebook": {
     "kernelName": "csharp"
    }
   },
   "outputs": [],
   "source": [
    "// neural net\n",
    "double w = 0.5;\n",
    "\n",
    "// training data\n",
    "double x = 1;\n",
    "double expectedY = 2;\n",
    "\n",
    "// just declared here for optimization...\n",
    "double y;\n",
    "double loss;\n",
    "double grad;\n"
   ]
  },
  {
   "cell_type": "code",
   "execution_count": 19,
   "metadata": {
    "dotnet_interactive": {
     "language": "csharp"
    },
    "polyglot_notebook": {
     "kernelName": "csharp"
    }
   },
   "outputs": [
    {
     "name": "stdout",
     "output_type": "stream",
     "text": [
      "0.03957287986287364\n",
      "0.0380057938203038\n",
      "0.03650076438501975\n",
      "0.035055334115372976\n",
      "0.033667142884404186\n",
      "0.03233392402618175\n",
      "0.03105350063474499\n",
      "0.02982378200960908\n",
      "0.028642760242028557\n",
      "0.02750850693644425\n",
      "0.02641917006176105\n",
      "0.025372970927315296\n",
      "0.024368201278593637\n",
      "0.0234032205079613\n",
      "0.02247645297584601\n",
      "0.021586385438002488\n",
      "0.02073156457465762\n",
      "0.01991059461750116\n",
      "0.019122135070648125\n",
      "0.018364898521850456\n",
      "0.017637648540385166\n",
      "0.01693919765818591\n",
      "0.016268405430921742\n",
      "0.015624176575857253\n",
      "0.015005459183453283\n",
      "0.014411242999788559\n",
      "0.013840557776996946\n",
      "0.013292471689027856\n",
      "0.012766089810142366\n",
      "0.01226055265366075\n",
      "0.0117750347685758\n",
      "0.011308743391740202\n",
      "0.010860917153427276\n",
      "0.010430824834151569\n",
      "0.010017764170719161\n",
      "0.009621060709558673\n",
      "0.009240066705460138\n",
      "0.008874160063923924\n",
      "0.008522743325392549\n",
      "0.00818524268970699\n",
      "0.00786110707919461\n",
      "0.00754980723885851\n",
      "0.007250834872199707\n",
      "0.006963701811260583\n",
      "0.0066879392195346625\n",
      "0.006423096826441072\n",
      "0.006168742192114011\n",
      "0.0059244600013063035\n",
      "0.005689851385254565\n",
      "0.0054645332703984984\n",
      "0.0052481377528907115\n",
      "0.0050403114978762546\n",
      "0.004840715162560358\n",
      "0.004649022842122969\n",
      "0.0044649215375748945\n",
      "0.004288110644686922\n",
      "0.004118301463157315\n",
      "0.003955216725216289\n",
      "0.003798590142897727\n",
      "0.003648165973238972\n",
      "0.0035036986006987195\n",
      "0.003364952136111044\n",
      "0.0032317000315210363\n",
      "0.003103724710272814\n",
      "0.0029808172117460198\n",
      "0.0028627768501608706\n",
      "0.002749410886894504\n",
      "0.0026405342157734837\n",
      "0.0025359690608288566\n",
      "0.0024355446860200272\n",
      "0.002339097116453641\n",
      "0.002246468870642078\n",
      "0.002157508703364654\n",
      "0.0020720713587114086\n",
      "0.00199001733290643\n",
      "0.0019112126465233377\n",
      "0.0018355286257210196\n",
      "0.0017628416921424642\n",
      "0.0016930331611336182\n",
      "0.0016259890479527344\n",
      "0.0015615998816537985\n",
      "0.0014997605263403007\n",
      "0.0014403700094972242\n",
      "0.0013833313571211259\n",
      "0.0013285514353791235\n",
      "0.0012759407985381108\n",
      "0.0012254135429159941\n",
      "0.001176887166616518\n",
      "0.0011302824348184992\n",
      "0.0010855232503996805\n",
      "0.0010425365296838527\n",
      "0.0010012520831083672\n",
      "0.0009616025006172733\n",
      "0.0009235230415928342\n",
      "0.0008869515291457637\n",
      "0.0008518282485915936\n",
      "0.0008180958499473675\n",
      "0.0007856992542894502\n",
      "0.0007545855638195929\n",
      "0.0007247039754923428\n"
     ]
    }
   ],
   "source": [
    "\n",
    "for (int i = 0; i < 100; i++)\n",
    "{\n",
    "    y = w * x;                              // forward pass\n",
    "    loss = Math.Pow(y - expectedY, 2);\n",
    "\n",
    "    Console.WriteLine(loss);\n",
    "\n",
    "    grad = 2 * (y - expectedY) * x;         // backward pass\n",
    "    w = w - 0.01 * grad;\n",
    "}"
   ]
  },
  {
   "cell_type": "code",
   "execution_count": 20,
   "metadata": {
    "dotnet_interactive": {
     "language": "csharp"
    },
    "polyglot_notebook": {
     "kernelName": "csharp"
    }
   },
   "outputs": [
    {
     "data": {
      "text/html": [
       "<div class=\"dni-plaintext\"><pre>1.9730796735626712</pre></div><style>\r\n",
       ".dni-code-hint {\r\n",
       "    font-style: italic;\r\n",
       "    overflow: hidden;\r\n",
       "    white-space: nowrap;\r\n",
       "}\r\n",
       ".dni-treeview {\r\n",
       "    white-space: nowrap;\r\n",
       "}\r\n",
       ".dni-treeview td {\r\n",
       "    vertical-align: top;\r\n",
       "    text-align: start;\r\n",
       "}\r\n",
       "details.dni-treeview {\r\n",
       "    padding-left: 1em;\r\n",
       "}\r\n",
       "table td {\r\n",
       "    text-align: start;\r\n",
       "}\r\n",
       "table tr { \r\n",
       "    vertical-align: top; \r\n",
       "    margin: 0em 0px;\r\n",
       "}\r\n",
       "table tr td pre \r\n",
       "{ \r\n",
       "    vertical-align: top !important; \r\n",
       "    margin: 0em 0px !important;\r\n",
       "} \r\n",
       "table th {\r\n",
       "    text-align: start;\r\n",
       "}\r\n",
       "</style>"
      ]
     },
     "metadata": {},
     "output_type": "display_data"
    }
   ],
   "source": [
    "y"
   ]
  },
  {
   "cell_type": "markdown",
   "metadata": {},
   "source": [
    "So now we can use our trained function to calculate outputs for inputs that it was not trained on. Behold:"
   ]
  },
  {
   "cell_type": "code",
   "execution_count": 21,
   "metadata": {
    "dotnet_interactive": {
     "language": "csharp"
    },
    "polyglot_notebook": {
     "kernelName": "csharp"
    }
   },
   "outputs": [
    {
     "data": {
      "text/html": [
       "<div class=\"dni-plaintext\"><pre>5.920854240274253</pre></div><style>\r\n",
       ".dni-code-hint {\r\n",
       "    font-style: italic;\r\n",
       "    overflow: hidden;\r\n",
       "    white-space: nowrap;\r\n",
       "}\r\n",
       ".dni-treeview {\r\n",
       "    white-space: nowrap;\r\n",
       "}\r\n",
       ".dni-treeview td {\r\n",
       "    vertical-align: top;\r\n",
       "    text-align: start;\r\n",
       "}\r\n",
       "details.dni-treeview {\r\n",
       "    padding-left: 1em;\r\n",
       "}\r\n",
       "table td {\r\n",
       "    text-align: start;\r\n",
       "}\r\n",
       "table tr { \r\n",
       "    vertical-align: top; \r\n",
       "    margin: 0em 0px;\r\n",
       "}\r\n",
       "table tr td pre \r\n",
       "{ \r\n",
       "    vertical-align: top !important; \r\n",
       "    margin: 0em 0px !important;\r\n",
       "} \r\n",
       "table th {\r\n",
       "    text-align: start;\r\n",
       "}\r\n",
       "</style>"
      ]
     },
     "metadata": {},
     "output_type": "display_data"
    }
   ],
   "source": [
    "var y = w * 3;\n",
    "y"
   ]
  },
  {
   "cell_type": "markdown",
   "metadata": {},
   "source": [
    "## One more thing (or two)\n",
    "\n",
    "Neural nets are just more complicated functions, that use function composition to combine neurons. The structure of neural nets makes deep learning possible, because we can use linear algebra/matrices to represent neural nets, and GPUs are good at doing linear algebra.\n",
    "\n",
    "Also, there are tools for automating calculating the gradient. PyTorch and Tensorflow do this. Makes creating neural nets a lot easier.\n",
    "\n",
    "### Dictionary corner\n",
    "\n",
    "Can now understand some more terms:\n",
    "\n",
    "#### Backpropagation\n",
    "\n",
    "`Propagating the gradient \"backwards\" through the neural net.`\n",
    "\n",
    "#### Gradient descent\n",
    "\n",
    "`Minimizing the loss by nudging the parameters in the right direction given their gradient.`\n",
    "\n",
    "### The final thing\n",
    "\n",
    "Judgement/experience required for training a neural net, artform, \"fudging numbers\", e.g. squaring the loss, learning rate, or when gradient goes 0."
   ]
  }
 ],
 "metadata": {
  "kernelspec": {
   "display_name": ".NET (C#)",
   "language": "C#",
   "name": ".net-csharp"
  },
  "language_info": {
   "name": "polyglot-notebook"
  },
  "polyglot_notebook": {
   "kernelInfo": {
    "defaultKernelName": "csharp",
    "items": [
     {
      "aliases": [],
      "name": "csharp"
     }
    ]
   }
  }
 },
 "nbformat": 4,
 "nbformat_minor": 2
}
